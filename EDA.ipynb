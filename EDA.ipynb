{
 "cells": [
  {
   "cell_type": "code",
   "execution_count": 9,
   "metadata": {},
   "outputs": [],
   "source": [
    "import numpy as np # linear algebra\n",
    "import pandas as pd # data processing, CSV file I/O (e.g. pd.read_csv)\n",
    "import os\n",
    "from glob import glob\n",
    "%matplotlib inline\n",
    "import matplotlib.pyplot as plt\n",
    "import seaborn as sns\n",
    "\n",
    "##Import any other packages you may need here\n",
    "import pydicom"
   ]
  },
  {
   "cell_type": "markdown",
   "metadata": {},
   "source": [
    "EDA is open-ended, and it is up to you to decide how to look at different ways to slice and dice your data. A good starting point is to look at the requirements for the FDA documentation in the final part of this project to guide (some) of the analyses you do. \n",
    "\n",
    "This EDA should also help to inform you of how pneumonia looks in the wild. E.g. what other types of diseases it's commonly found with, how often it is found, what ages it affects, etc. \n",
    "\n",
    "Note that this NIH dataset was not specifically acquired for pneumonia. So, while this is a representation of 'pneumonia in the wild,' the prevalence of pneumonia may be different if you were to take only chest x-rays that were acquired in an ER setting with suspicion of pneumonia. "
   ]
  },
  {
   "cell_type": "markdown",
   "metadata": {},
   "source": [
    "Perform the following EDA:\n",
    "* The patient demographic data such as gender, age, patient position,etc. (as it is available)\n",
    "* The x-ray views taken (i.e. view position)\n",
    "* The number of cases including: \n",
    "    * number of pneumonia cases,\n",
    "    * number of non-pneumonia cases\n",
    "* The distribution of other diseases that are comorbid with pneumonia\n",
    "* Number of disease per patient \n",
    "* Pixel-level assessments of the imaging data for healthy & disease states of interest (e.g. histograms of intensity values) and compare distributions across diseases.\n",
    "\n",
    "Note: use full NIH data to perform the first a few EDA items and use `sample_labels.csv` for the pixel-level assassements. "
   ]
  },
  {
   "cell_type": "markdown",
   "metadata": {},
   "source": [
    "Also, **describe your findings and how will you set up the model training based on the findings.**"
   ]
  },
  {
   "cell_type": "code",
   "execution_count": 5,
   "metadata": {},
   "outputs": [
    {
     "data": {
      "text/html": [
       "<div>\n",
       "<style scoped>\n",
       "    .dataframe tbody tr th:only-of-type {\n",
       "        vertical-align: middle;\n",
       "    }\n",
       "\n",
       "    .dataframe tbody tr th {\n",
       "        vertical-align: top;\n",
       "    }\n",
       "\n",
       "    .dataframe thead th {\n",
       "        text-align: right;\n",
       "    }\n",
       "</style>\n",
       "<table border=\"1\" class=\"dataframe\">\n",
       "  <thead>\n",
       "    <tr style=\"text-align: right;\">\n",
       "      <th></th>\n",
       "      <th>Image Index</th>\n",
       "      <th>Finding Labels</th>\n",
       "      <th>Follow-up #</th>\n",
       "      <th>Patient ID</th>\n",
       "      <th>Patient Age</th>\n",
       "      <th>Patient Gender</th>\n",
       "      <th>View Position</th>\n",
       "      <th>OriginalImage[Width</th>\n",
       "      <th>Height]</th>\n",
       "      <th>OriginalImagePixelSpacing[x</th>\n",
       "      <th>y]</th>\n",
       "      <th>Unnamed: 11</th>\n",
       "    </tr>\n",
       "  </thead>\n",
       "  <tbody>\n",
       "    <tr>\n",
       "      <th>36962</th>\n",
       "      <td>00009727_048.png</td>\n",
       "      <td>Infiltration</td>\n",
       "      <td>48</td>\n",
       "      <td>9727</td>\n",
       "      <td>14</td>\n",
       "      <td>F</td>\n",
       "      <td>AP</td>\n",
       "      <td>2500</td>\n",
       "      <td>2048</td>\n",
       "      <td>0.168</td>\n",
       "      <td>0.168</td>\n",
       "      <td>NaN</td>\n",
       "    </tr>\n",
       "    <tr>\n",
       "      <th>98039</th>\n",
       "      <td>00025858_003.png</td>\n",
       "      <td>No Finding</td>\n",
       "      <td>3</td>\n",
       "      <td>25858</td>\n",
       "      <td>33</td>\n",
       "      <td>F</td>\n",
       "      <td>AP</td>\n",
       "      <td>3056</td>\n",
       "      <td>2544</td>\n",
       "      <td>0.139</td>\n",
       "      <td>0.139</td>\n",
       "      <td>NaN</td>\n",
       "    </tr>\n",
       "    <tr>\n",
       "      <th>27750</th>\n",
       "      <td>00007218_003.png</td>\n",
       "      <td>Atelectasis</td>\n",
       "      <td>3</td>\n",
       "      <td>7218</td>\n",
       "      <td>50</td>\n",
       "      <td>F</td>\n",
       "      <td>AP</td>\n",
       "      <td>2500</td>\n",
       "      <td>2048</td>\n",
       "      <td>0.168</td>\n",
       "      <td>0.168</td>\n",
       "      <td>NaN</td>\n",
       "    </tr>\n",
       "  </tbody>\n",
       "</table>\n",
       "</div>"
      ],
      "text/plain": [
       "            Image Index Finding Labels  Follow-up #  Patient ID  Patient Age  \\\n",
       "36962  00009727_048.png   Infiltration           48        9727           14   \n",
       "98039  00025858_003.png     No Finding            3       25858           33   \n",
       "27750  00007218_003.png    Atelectasis            3        7218           50   \n",
       "\n",
       "      Patient Gender View Position  OriginalImage[Width  Height]  \\\n",
       "36962              F            AP                 2500     2048   \n",
       "98039              F            AP                 3056     2544   \n",
       "27750              F            AP                 2500     2048   \n",
       "\n",
       "       OriginalImagePixelSpacing[x     y]  Unnamed: 11  \n",
       "36962                        0.168  0.168          NaN  \n",
       "98039                        0.139  0.139          NaN  \n",
       "27750                        0.168  0.168          NaN  "
      ]
     },
     "execution_count": 5,
     "metadata": {},
     "output_type": "execute_result"
    }
   ],
   "source": [
    "## Below is some helper code to read data for you.\n",
    "## Load NIH data\n",
    "all_xray_df = pd.read_csv('/data/Data_Entry_2017.csv')\n",
    "all_xray_df.sample(3)"
   ]
  },
  {
   "cell_type": "code",
   "execution_count": 6,
   "metadata": {},
   "outputs": [
    {
     "data": {
      "text/html": [
       "<div>\n",
       "<style scoped>\n",
       "    .dataframe tbody tr th:only-of-type {\n",
       "        vertical-align: middle;\n",
       "    }\n",
       "\n",
       "    .dataframe tbody tr th {\n",
       "        vertical-align: top;\n",
       "    }\n",
       "\n",
       "    .dataframe thead th {\n",
       "        text-align: right;\n",
       "    }\n",
       "</style>\n",
       "<table border=\"1\" class=\"dataframe\">\n",
       "  <thead>\n",
       "    <tr style=\"text-align: right;\">\n",
       "      <th></th>\n",
       "      <th>Image Index</th>\n",
       "      <th>Finding Labels</th>\n",
       "      <th>Follow-up #</th>\n",
       "      <th>Patient ID</th>\n",
       "      <th>Patient Age</th>\n",
       "      <th>Patient Gender</th>\n",
       "      <th>View Position</th>\n",
       "      <th>OriginalImageWidth</th>\n",
       "      <th>OriginalImageHeight</th>\n",
       "      <th>OriginalImagePixelSpacing_x</th>\n",
       "      <th>OriginalImagePixelSpacing_y</th>\n",
       "    </tr>\n",
       "  </thead>\n",
       "  <tbody>\n",
       "    <tr>\n",
       "      <th>4866</th>\n",
       "      <td>00025580_011.png</td>\n",
       "      <td>Atelectasis</td>\n",
       "      <td>11</td>\n",
       "      <td>25580</td>\n",
       "      <td>046Y</td>\n",
       "      <td>M</td>\n",
       "      <td>PA</td>\n",
       "      <td>2530</td>\n",
       "      <td>2991</td>\n",
       "      <td>0.143</td>\n",
       "      <td>0.143</td>\n",
       "    </tr>\n",
       "    <tr>\n",
       "      <th>936</th>\n",
       "      <td>00004893_022.png</td>\n",
       "      <td>Atelectasis</td>\n",
       "      <td>22</td>\n",
       "      <td>4893</td>\n",
       "      <td>029Y</td>\n",
       "      <td>M</td>\n",
       "      <td>AP</td>\n",
       "      <td>2500</td>\n",
       "      <td>2048</td>\n",
       "      <td>0.171</td>\n",
       "      <td>0.171</td>\n",
       "    </tr>\n",
       "    <tr>\n",
       "      <th>750</th>\n",
       "      <td>00003923_018.png</td>\n",
       "      <td>Infiltration</td>\n",
       "      <td>18</td>\n",
       "      <td>3923</td>\n",
       "      <td>028Y</td>\n",
       "      <td>M</td>\n",
       "      <td>AP</td>\n",
       "      <td>2500</td>\n",
       "      <td>2048</td>\n",
       "      <td>0.171</td>\n",
       "      <td>0.171</td>\n",
       "    </tr>\n",
       "  </tbody>\n",
       "</table>\n",
       "</div>"
      ],
      "text/plain": [
       "           Image Index Finding Labels  Follow-up #  Patient ID Patient Age  \\\n",
       "4866  00025580_011.png    Atelectasis           11       25580        046Y   \n",
       "936   00004893_022.png    Atelectasis           22        4893        029Y   \n",
       "750   00003923_018.png   Infiltration           18        3923        028Y   \n",
       "\n",
       "     Patient Gender View Position  OriginalImageWidth  OriginalImageHeight  \\\n",
       "4866              M            PA                2530                 2991   \n",
       "936               M            AP                2500                 2048   \n",
       "750               M            AP                2500                 2048   \n",
       "\n",
       "      OriginalImagePixelSpacing_x  OriginalImagePixelSpacing_y  \n",
       "4866                        0.143                        0.143  \n",
       "936                         0.171                        0.171  \n",
       "750                         0.171                        0.171  "
      ]
     },
     "execution_count": 6,
     "metadata": {},
     "output_type": "execute_result"
    }
   ],
   "source": [
    "## Load 'sample_labels.csv' data for pixel level assessments\n",
    "sample_df = pd.read_csv('sample_labels.csv')\n",
    "sample_df.sample(3)"
   ]
  },
  {
   "cell_type": "code",
   "execution_count": 7,
   "metadata": {},
   "outputs": [
    {
     "name": "stdout",
     "output_type": "stream",
     "text": [
      "/home/workspace/test5.dcm\n",
      "/home/workspace/FDA_Submission_Template.md\n",
      "/home/workspace/Build and train model.ipynb\n",
      "/home/workspace/test4.dcm\n",
      "/home/workspace/sample_labels.csv\n",
      "/home/workspace/Inference.ipynb\n",
      "/home/workspace/test6.dcm\n",
      "/home/workspace/test2.dcm\n",
      "/home/workspace/test3.dcm\n",
      "/home/workspace/EDA.ipynb\n",
      "/home/workspace/test1.dcm\n",
      "/home/workspace/.ipynb_checkpoints/EDA-checkpoint.ipynb\n",
      "/home/workspace/.ipynb_checkpoints/Inference-checkpoint.ipynb\n",
      "/home/workspace/.ipynb_checkpoints/Build and train model-checkpoint.ipynb\n"
     ]
    }
   ],
   "source": [
    "## EDA\n",
    "# Todo \n",
    "\n",
    "thisdir = os.getcwd()\n",
    "\n",
    "# r=root, d=directories, f = files\n",
    "for r, d, f in os.walk(thisdir):\n",
    "    for file in f:\n",
    "            print(os.path.join(r, file))"
   ]
  },
  {
   "cell_type": "markdown",
   "metadata": {},
   "source": [
    "# Explore 2D Imaging Properties"
   ]
  },
  {
   "cell_type": "markdown",
   "metadata": {},
   "source": [
    "## Step 1: \n",
    "Read the first DICOM's pixel_array attribute into a dataframe using the pydicom.dcmread function"
   ]
  },
  {
   "cell_type": "code",
   "execution_count": 22,
   "metadata": {},
   "outputs": [],
   "source": [
    "dcm = pydicom.dcmread(\"test1.dcm\")\n",
    "pixels0 = dcm.pixel_array"
   ]
  },
  {
   "cell_type": "markdown",
   "metadata": {},
   "source": [
    "## Step 2: \n",
    "Visualize the image using plt.imshow"
   ]
  },
  {
   "cell_type": "code",
   "execution_count": 23,
   "metadata": {},
   "outputs": [
    {
     "data": {
      "text/plain": [
       "<matplotlib.image.AxesImage at 0x7f0c7da92910>"
      ]
     },
     "execution_count": 23,
     "metadata": {},
     "output_type": "execute_result"
    },
    {
     "data": {
      "image/png": "[encoded data removed]",
      "text/plain": [
       "<Figure size 432x288 with 1 Axes>"
      ]
     },
     "metadata": {
      "needs_background": "light"
     },
     "output_type": "display_data"
    }
   ],
   "source": [
    "plt.imshow(pixels0)"
   ]
  },
  {
   "cell_type": "markdown",
   "metadata": {},
   "source": [
    "## Step 3: \n",
    "plot a histogram of the image pixel intensity values"
   ]
  },
  {
   "cell_type": "code",
   "execution_count": 12,
   "metadata": {},
   "outputs": [
    {
     "data": {
      "image/png": "[encoded data removed]",
      "text/plain": [
       "<Figure size 360x360 with 1 Axes>"
      ]
     },
     "metadata": {
      "needs_background": "light"
     },
     "output_type": "display_data"
    }
   ],
   "source": [
    "plt.figure(figsize=(5,5))\n",
    "plt.hist(pixels0.ravel(), bins = 256)\n",
    "plt.show()"
   ]
  },
  {
   "cell_type": "markdown",
   "metadata": {},
   "source": [
    "Note the peak at zero, which are background pixels. This distribution makes it seem like the mean intensity is probably around 200, but let's find out for sure:"
   ]
  },
  {
   "cell_type": "markdown",
   "metadata": {},
   "source": [
    "## Step 4: \n",
    "Find the mean and std dev intensity values of the image, and standerdize it"
   ]
  },
  {
   "cell_type": "code",
   "execution_count": 24,
   "metadata": {},
   "outputs": [
    {
     "data": {
      "text/plain": [
       "180.0586576461792"
      ]
     },
     "execution_count": 24,
     "metadata": {},
     "output_type": "execute_result"
    }
   ],
   "source": [
    "mean_intensity = np.mean(dcm.pixel_array)\n",
    "mean_intensity"
   ]
  },
  {
   "cell_type": "code",
   "execution_count": 25,
   "metadata": {},
   "outputs": [
    {
     "data": {
      "text/plain": [
       "47.89115072730743"
      ]
     },
     "execution_count": 25,
     "metadata": {},
     "output_type": "execute_result"
    }
   ],
   "source": [
    "std_intensity = np.std(dcm.pixel_array)\n",
    "std_intensity"
   ]
  },
  {
   "cell_type": "code",
   "execution_count": 26,
   "metadata": {},
   "outputs": [],
   "source": [
    "new_img = dcm.pixel_array.copy()\n",
    "new_img = (new_img - mean_intensity)/std_intensity"
   ]
  },
  {
   "cell_type": "markdown",
   "metadata": {},
   "source": [
    "## Step 5: \n",
    "Re-plot a histogram of the normalized intensity values"
   ]
  },
  {
   "cell_type": "code",
   "execution_count": 27,
   "metadata": {},
   "outputs": [
    {
     "data": {
      "text/plain": [
       "(array([2.4090e+03, 0.0000e+00, 0.0000e+00, 0.0000e+00, 0.0000e+00,\n",
       "        0.0000e+00, 0.0000e+00, 0.0000e+00, 0.0000e+00, 4.5000e+01,\n",
       "        5.1900e+02, 7.5000e+02, 6.9700e+02, 7.2200e+02, 8.0100e+02,\n",
       "        8.5400e+02, 2.9900e+02, 9.6000e+01, 5.6000e+01, 5.9000e+01,\n",
       "        6.9000e+01, 5.9000e+01, 7.1000e+01, 7.1000e+01, 7.3000e+01,\n",
       "        8.3000e+01, 8.5000e+01, 9.7000e+01, 1.6800e+02, 1.5600e+02,\n",
       "        1.3300e+02, 1.2700e+02, 1.2300e+02, 1.1600e+02, 1.1500e+02,\n",
       "        1.0900e+02, 1.0700e+02, 1.0700e+02, 1.0500e+02, 1.0200e+02,\n",
       "        1.2400e+02, 1.1000e+02, 1.0500e+02, 1.1900e+02, 1.3700e+02,\n",
       "        1.3400e+02, 1.4600e+02, 1.7300e+02, 1.5000e+02, 1.5000e+02,\n",
       "        1.5600e+02, 1.9100e+02, 1.9500e+02, 2.4200e+02, 2.9500e+02,\n",
       "        2.9200e+02, 3.4600e+02, 4.0000e+02, 3.9900e+02, 4.3000e+02,\n",
       "        4.9500e+02, 5.3700e+02, 5.6300e+02, 0.0000e+00, 7.1100e+02,\n",
       "        6.9100e+02, 7.3300e+02, 7.4600e+02, 8.5700e+02, 9.7200e+02,\n",
       "        1.0050e+03, 1.0940e+03, 1.1660e+03, 1.2240e+03, 1.1240e+03,\n",
       "        1.1960e+03, 1.2090e+03, 1.3590e+03, 1.4520e+03, 1.5600e+03,\n",
       "        1.6370e+03, 1.6680e+03, 1.7680e+03, 1.7810e+03, 1.8430e+03,\n",
       "        2.0120e+03, 2.0220e+03, 2.2750e+03, 2.2200e+03, 2.4060e+03,\n",
       "        2.4240e+03, 2.5010e+03, 2.3550e+03, 2.4920e+03, 2.5260e+03,\n",
       "        2.5720e+03, 2.5910e+03, 2.7040e+03, 2.7200e+03, 2.9540e+03,\n",
       "        2.9250e+03, 3.0070e+03, 2.8950e+03, 2.9770e+03, 3.0190e+03,\n",
       "        2.9960e+03, 2.9580e+03, 2.9920e+03, 2.9680e+03, 3.0250e+03,\n",
       "        2.9520e+03, 2.9420e+03, 3.0930e+03, 3.1090e+03, 3.1690e+03,\n",
       "        3.2320e+03, 3.2550e+03, 3.2590e+03, 3.2640e+03, 3.2750e+03,\n",
       "        3.2180e+03, 3.2720e+03, 3.1850e+03, 3.4020e+03, 3.4030e+03,\n",
       "        3.4380e+03, 3.4350e+03, 3.3380e+03, 0.0000e+00, 3.2950e+03,\n",
       "        3.3350e+03, 3.4710e+03, 3.6050e+03, 3.7190e+03, 3.8170e+03,\n",
       "        3.8730e+03, 4.0790e+03, 3.9940e+03, 3.9170e+03, 3.9630e+03,\n",
       "        3.9060e+03, 3.9310e+03, 4.0790e+03, 3.9790e+03, 4.1590e+03,\n",
       "        4.1710e+03, 4.3100e+03, 4.2600e+03, 4.5030e+03, 4.3190e+03,\n",
       "        4.3030e+03, 4.3580e+03, 4.4280e+03, 4.5710e+03, 4.6290e+03,\n",
       "        4.6800e+03, 4.7110e+03, 4.8020e+03, 5.0720e+03, 5.0940e+03,\n",
       "        5.1070e+03, 5.0960e+03, 5.1380e+03, 5.0620e+03, 5.1000e+03,\n",
       "        5.0000e+03, 4.9990e+03, 5.0060e+03, 4.9360e+03, 5.0060e+03,\n",
       "        5.0810e+03, 4.8660e+03, 5.1450e+03, 5.1430e+03, 5.3240e+03,\n",
       "        5.4890e+03, 5.7610e+03, 6.1550e+03, 6.3330e+03, 6.6340e+03,\n",
       "        7.0530e+03, 7.2990e+03, 7.2970e+03, 7.3920e+03, 7.6640e+03,\n",
       "        8.1490e+03, 8.5010e+03, 8.8570e+03, 9.4070e+03, 9.9450e+03,\n",
       "        1.0093e+04, 9.7220e+03, 0.0000e+00, 9.2660e+03, 9.3750e+03,\n",
       "        9.6330e+03, 1.0084e+04, 1.0100e+04, 1.0203e+04, 1.0652e+04,\n",
       "        1.0939e+04, 1.1238e+04, 1.1223e+04, 1.1696e+04, 1.1595e+04,\n",
       "        1.1687e+04, 1.1359e+04, 1.0579e+04, 1.0103e+04, 9.6790e+03,\n",
       "        9.5030e+03, 9.5480e+03, 9.5050e+03, 9.1710e+03, 8.9290e+03,\n",
       "        9.4640e+03, 9.3410e+03, 9.3040e+03, 9.1300e+03, 9.2470e+03,\n",
       "        9.6280e+03, 9.8680e+03, 1.0558e+04, 1.1122e+04, 1.1473e+04,\n",
       "        1.1184e+04, 1.0000e+04, 8.5690e+03, 7.9180e+03, 7.4690e+03,\n",
       "        7.8140e+03, 8.1640e+03, 8.1030e+03, 8.2110e+03, 8.3630e+03,\n",
       "        9.3900e+03, 1.1023e+04, 1.1779e+04, 1.2030e+04, 1.1733e+04,\n",
       "        1.3793e+04, 1.5288e+04, 1.4957e+04, 1.3704e+04, 9.9560e+03,\n",
       "        6.0120e+03, 3.1920e+03, 1.2920e+03, 4.3800e+02, 4.7000e+01,\n",
       "        1.0000e+00, 0.0000e+00, 0.0000e+00, 1.0000e+00, 3.0000e+00,\n",
       "        2.0000e+00]),\n",
       " array([-3.75974799e+00, -3.73919357e+00, -3.71863914e+00, -3.69808472e+00,\n",
       "        -3.67753029e+00, -3.65697587e+00, -3.63642145e+00, -3.61586702e+00,\n",
       "        -3.59531260e+00, -3.57475818e+00, -3.55420375e+00, -3.53364933e+00,\n",
       "        -3.51309491e+00, -3.49254048e+00, -3.47198606e+00, -3.45143163e+00,\n",
       "        -3.43087721e+00, -3.41032279e+00, -3.38976836e+00, -3.36921394e+00,\n",
       "        -3.34865952e+00, -3.32810509e+00, -3.30755067e+00, -3.28699625e+00,\n",
       "        -3.26644182e+00, -3.24588740e+00, -3.22533297e+00, -3.20477855e+00,\n",
       "        -3.18422413e+00, -3.16366970e+00, -3.14311528e+00, -3.12256086e+00,\n",
       "        -3.10200643e+00, -3.08145201e+00, -3.06089759e+00, -3.04034316e+00,\n",
       "        -3.01978874e+00, -2.99923432e+00, -2.97867989e+00, -2.95812547e+00,\n",
       "        -2.93757104e+00, -2.91701662e+00, -2.89646220e+00, -2.87590777e+00,\n",
       "        -2.85535335e+00, -2.83479893e+00, -2.81424450e+00, -2.79369008e+00,\n",
       "        -2.77313566e+00, -2.75258123e+00, -2.73202681e+00, -2.71147238e+00,\n",
       "        -2.69091796e+00, -2.67036354e+00, -2.64980911e+00, -2.62925469e+00,\n",
       "        -2.60870027e+00, -2.58814584e+00, -2.56759142e+00, -2.54703700e+00,\n",
       "        -2.52648257e+00, -2.50592815e+00, -2.48537372e+00, -2.46481930e+00,\n",
       "        -2.44426488e+00, -2.42371045e+00, -2.40315603e+00, -2.38260161e+00,\n",
       "        -2.36204718e+00, -2.34149276e+00, -2.32093834e+00, -2.30038391e+00,\n",
       "        -2.27982949e+00, -2.25927506e+00, -2.23872064e+00, -2.21816622e+00,\n",
       "        -2.19761179e+00, -2.17705737e+00, -2.15650295e+00, -2.13594852e+00,\n",
       "        -2.11539410e+00, -2.09483968e+00, -2.07428525e+00, -2.05373083e+00,\n",
       "        -2.03317640e+00, -2.01262198e+00, -1.99206756e+00, -1.97151313e+00,\n",
       "        -1.95095871e+00, -1.93040429e+00, -1.90984986e+00, -1.88929544e+00,\n",
       "        -1.86874102e+00, -1.84818659e+00, -1.82763217e+00, -1.80707774e+00,\n",
       "        -1.78652332e+00, -1.76596890e+00, -1.74541447e+00, -1.72486005e+00,\n",
       "        -1.70430563e+00, -1.68375120e+00, -1.66319678e+00, -1.64264236e+00,\n",
       "        -1.62208793e+00, -1.60153351e+00, -1.58097908e+00, -1.56042466e+00,\n",
       "        -1.53987024e+00, -1.51931581e+00, -1.49876139e+00, -1.47820697e+00,\n",
       "        -1.45765254e+00, -1.43709812e+00, -1.41654370e+00, -1.39598927e+00,\n",
       "        -1.37543485e+00, -1.35488042e+00, -1.33432600e+00, -1.31377158e+00,\n",
       "        -1.29321715e+00, -1.27266273e+00, -1.25210831e+00, -1.23155388e+00,\n",
       "        -1.21099946e+00, -1.19044504e+00, -1.16989061e+00, -1.14933619e+00,\n",
       "        -1.12878177e+00, -1.10822734e+00, -1.08767292e+00, -1.06711849e+00,\n",
       "        -1.04656407e+00, -1.02600965e+00, -1.00545522e+00, -9.84900800e-01,\n",
       "        -9.64346376e-01, -9.43791952e-01, -9.23237529e-01, -9.02683105e-01,\n",
       "        -8.82128681e-01, -8.61574258e-01, -8.41019834e-01, -8.20465411e-01,\n",
       "        -7.99910987e-01, -7.79356563e-01, -7.58802140e-01, -7.38247716e-01,\n",
       "        -7.17693292e-01, -6.97138869e-01, -6.76584445e-01, -6.56030022e-01,\n",
       "        -6.35475598e-01, -6.14921174e-01, -5.94366751e-01, -5.73812327e-01,\n",
       "        -5.53257903e-01, -5.32703480e-01, -5.12149056e-01, -4.91594633e-01,\n",
       "        -4.71040209e-01, -4.50485785e-01, -4.29931362e-01, -4.09376938e-01,\n",
       "        -3.88822514e-01, -3.68268091e-01, -3.47713667e-01, -3.27159244e-01,\n",
       "        -3.06604820e-01, -2.86050396e-01, -2.65495973e-01, -2.44941549e-01,\n",
       "        -2.24387125e-01, -2.03832702e-01, -1.83278278e-01, -1.62723855e-01,\n",
       "        -1.42169431e-01, -1.21615007e-01, -1.01060584e-01, -8.05061601e-02,\n",
       "        -5.99517364e-02, -3.93973128e-02, -1.88428892e-02,  1.71153444e-03,\n",
       "         2.22659581e-02,  4.28203817e-02,  6.33748053e-02,  8.39292289e-02,\n",
       "         1.04483653e-01,  1.25038076e-01,  1.45592500e-01,  1.66146923e-01,\n",
       "         1.86701347e-01,  2.07255771e-01,  2.27810194e-01,  2.48364618e-01,\n",
       "         2.68919042e-01,  2.89473465e-01,  3.10027889e-01,  3.30582312e-01,\n",
       "         3.51136736e-01,  3.71691160e-01,  3.92245583e-01,  4.12800007e-01,\n",
       "         4.33354431e-01,  4.53908854e-01,  4.74463278e-01,  4.95017701e-01,\n",
       "         5.15572125e-01,  5.36126549e-01,  5.56680972e-01,  5.77235396e-01,\n",
       "         5.97789820e-01,  6.18344243e-01,  6.38898667e-01,  6.59453090e-01,\n",
       "         6.80007514e-01,  7.00561938e-01,  7.21116361e-01,  7.41670785e-01,\n",
       "         7.62225209e-01,  7.82779632e-01,  8.03334056e-01,  8.23888479e-01,\n",
       "         8.44442903e-01,  8.64997327e-01,  8.85551750e-01,  9.06106174e-01,\n",
       "         9.26660598e-01,  9.47215021e-01,  9.67769445e-01,  9.88323869e-01,\n",
       "         1.00887829e+00,  1.02943272e+00,  1.04998714e+00,  1.07054156e+00,\n",
       "         1.09109599e+00,  1.11165041e+00,  1.13220483e+00,  1.15275926e+00,\n",
       "         1.17331368e+00,  1.19386810e+00,  1.21442253e+00,  1.23497695e+00,\n",
       "         1.25553138e+00,  1.27608580e+00,  1.29664022e+00,  1.31719465e+00,\n",
       "         1.33774907e+00,  1.35830349e+00,  1.37885792e+00,  1.39941234e+00,\n",
       "         1.41996676e+00,  1.44052119e+00,  1.46107561e+00,  1.48163004e+00,\n",
       "         1.50218446e+00]),\n",
       " <a list of 256 Patch objects>)"
      ]
     },
     "execution_count": 27,
     "metadata": {},
     "output_type": "execute_result"
    },
    {
     "data": {
      "image/png": "[encoded data removed]",
      "text/plain": [
       "<Figure size 360x360 with 1 Axes>"
      ]
     },
     "metadata": {
      "needs_background": "light"
     },
     "output_type": "display_data"
    }
   ],
   "source": [
    "plt.figure(figsize=(5,5))\n",
    "plt.hist(new_img.ravel(), bins = 256)"
   ]
  },
  {
   "cell_type": "markdown",
   "metadata": {},
   "source": [
    "Notice how the histogram has the same shape, but now it's centered around 0. This is a key step in image pre-processing when we prepare imaging data for machine learning. "
   ]
  },
  {
   "cell_type": "code",
   "execution_count": null,
   "metadata": {},
   "outputs": [],
   "source": []
  }
 ],
 "metadata": {
  "kernelspec": {
   "display_name": "Python 3",
   "language": "python",
   "name": "python3"
  },
  "language_info": {
   "codemirror_mode": {
    "name": "ipython",
    "version": 3
   },
   "file_extension": ".py",
   "mimetype": "text/x-python",
   "name": "python",
   "nbconvert_exporter": "python",
   "pygments_lexer": "ipython3",
   "version": "3.7.6"
  }
 },
 "nbformat": 4,
 "nbformat_minor": 2
}
